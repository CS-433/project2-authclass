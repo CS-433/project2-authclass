{
 "cells": [
  {
   "cell_type": "code",
   "execution_count": 2,
   "metadata": {},
   "outputs": [],
   "source": [
    "import pandas as pd\n",
    "from preprocess import *\n",
    "import random\n",
    "random.seed(22)"
   ]
  },
  {
   "cell_type": "code",
   "execution_count": 3,
   "metadata": {},
   "outputs": [],
   "source": [
    "# Import the users levels dataset which has been cleaned up\n",
    "user_levels_df = pd.read_pickle('Data/users_levels_clean')\n",
    "\n",
    "#Import the dataset containing the comments AFTER language detection\n",
    "df = pd.read_pickle('Data/Classified/english_comments_2')"
   ]
  },
  {
   "cell_type": "code",
   "execution_count": 4,
   "metadata": {},
   "outputs": [],
   "source": [
    "# merge with user levels to then separate native from non native speakers\n",
    "df = df.merge(user_levels_df[['author', 'english']], left_on = 'author', right_on = 'author')\n",
    "\n",
    "# separate native from non native speakers\n",
    "natives_bool = (df['english'] == 'N')\n",
    "natives = df[natives_bool]\n",
    "non_natives = df[~natives_bool]"
   ]
  },
  {
   "cell_type": "code",
   "execution_count": 5,
   "metadata": {},
   "outputs": [
    {
     "name": "stderr",
     "output_type": "stream",
     "text": [
      "100%|██████████| 653/653 [00:01<00:00, 631.98it/s]\n",
      "100%|██████████| 325/325 [00:00<00:00, 807.11it/s]"
     ]
    },
    {
     "name": "stdout",
     "output_type": "stream",
     "text": [
      "The new datasets contains  354 native and 135 non-native authors.\n"
     ]
    },
    {
     "name": "stderr",
     "output_type": "stream",
     "text": [
      "\n"
     ]
    }
   ],
   "source": [
    "# Generate feeds for native and non native speakers separately \n",
    "native_feeds = generate_feeds(natives, nb_feeds = 20, nb_words_per_feed = 500, exact = False, seed = 0)\n",
    "non_native_feeds = generate_feeds(non_natives, nb_feeds = 20, nb_words_per_feed = 500, exact = False, seed = 0)\n",
    "\n",
    "print('The new datasets contains ',len(native_feeds), 'native and', len(non_native_feeds), 'non-native authors.')\n"
   ]
  },
  {
   "cell_type": "code",
   "execution_count": 6,
   "metadata": {},
   "outputs": [],
   "source": [
    "# Save the newly generated dataframe into pickle file\n",
    "native_feeds.to_pickle('Data/Feeds/native_english_20feeds')\n",
    "non_native_feeds.to_pickle('Data/Feeds/non_native_english_20feeds')"
   ]
  },
  {
   "cell_type": "code",
   "execution_count": 7,
   "metadata": {},
   "outputs": [],
   "source": [
    "# Create 2 dataframes for the tunning part \n",
    "# with 30 randomly picked natives for the first dataframe and 30 randomly picked non-natives for the other one.\n",
    "tunning_samples_native     = random.sample(range(len(native_feeds)), 30)\n",
    "tunning_samples_non_native = random.sample(range(len(non_native_feeds)), 30)\n",
    "\n",
    "native_authors_tunning = native_feeds.iloc[tunning_samples_native]\n",
    "non_native_authors_tunning = non_native_feeds.iloc[tunning_samples_non_native]"
   ]
  },
  {
   "cell_type": "code",
   "execution_count": 8,
   "metadata": {},
   "outputs": [],
   "source": [
    "# Create 2 dataframes for the testing part\n",
    "#  with 100 randomly picked natives for the first dataframe and 100 randomly picked non-natives for the other one.\n",
    "\n",
    "# Drop the authors who have already been taken in the train set\n",
    "test_native_feeds     = native_feeds.drop(index = native_authors_tunning.index)\n",
    "test_non_native_feeds = non_native_feeds.drop(index = non_native_authors_tunning.index)\n",
    "\n",
    "# Chose randomly 100 native authors and 100 non-native authors among the remaining\n",
    "test_samples_native     = random.sample(range(len(test_native_feeds)), 100)\n",
    "test_samples_non_native = random.sample(range(len(test_non_native_feeds)), 100)\n",
    "\n",
    "native_authors_testing = test_native_feeds.iloc[test_samples_native]\n",
    "non_native_authors_testing = test_non_native_feeds.iloc[test_samples_non_native]"
   ]
  },
  {
   "cell_type": "code",
   "execution_count": 9,
   "metadata": {},
   "outputs": [],
   "source": [
    "# Save these new dataframes into a csv file\n",
    "native_authors_tunning.to_csv('dataset/Tunning/30native_english.csv', sep = '\\t')\n",
    "non_native_authors_tunning.to_csv('dataset/Tunning/30non_native_english.csv', sep = '\\t')\n",
    "native_authors_testing.to_csv('dataset/Test/100native_english.csv', sep = '\\t')\n",
    "non_native_authors_testing.to_csv('dataset/Test/100non_native_english.csv', sep = '\\t')"
   ]
  },
  {
   "cell_type": "code",
   "execution_count": 10,
   "metadata": {},
   "outputs": [],
   "source": [
    "# Save these new dataframes into a pickle file\n",
    "native_authors_tunning.to_parquet('dataset/Tunning/30native_english')\n",
    "non_native_authors_tunning.to_parquet('dataset/Tunning/30non_native_english')\n",
    "native_authors_testing.to_parquet('dataset/Test/100native_english')\n",
    "non_native_authors_testing.to_parquet('dataset/Test/100non_native_english')"
   ]
  }
 ],
 "metadata": {
  "kernelspec": {
   "display_name": "Python 3.10.1 64-bit ('3.10.1')",
   "language": "python",
   "name": "python3"
  },
  "language_info": {
   "codemirror_mode": {
    "name": "ipython",
    "version": 3
   },
   "file_extension": ".py",
   "mimetype": "text/x-python",
   "name": "python",
   "nbconvert_exporter": "python",
   "pygments_lexer": "ipython3",
   "version": "3.10.1"
  },
  "orig_nbformat": 4,
  "vscode": {
   "interpreter": {
    "hash": "63412e708ced85145ee3358b7b7540b5b7bcbe0d3c78f470347fabcaf1a15eaf"
   }
  }
 },
 "nbformat": 4,
 "nbformat_minor": 2
}
