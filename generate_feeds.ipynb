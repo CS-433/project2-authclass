{
 "cells": [
  {
   "cell_type": "code",
   "execution_count": 1,
   "metadata": {},
   "outputs": [],
   "source": [
    "import pandas as pd\n",
    "from preprocess import *"
   ]
  },
  {
   "cell_type": "code",
   "execution_count": 2,
   "metadata": {},
   "outputs": [],
   "source": [
    "# Import the processed comments dataframe containing all the comments from french and english speakers before language detection\n",
    "comments_df = pd.read_pickle('Data/processed_comments')\n",
    "\n",
    "# Import the users levels dataset which has been cleaned up\n",
    "user_levels_df = pd.read_pickle('Data/users_levels_clean')\n",
    "\n",
    "#Import the dataset containing the comments AFTER language detection\n",
    "df = pd.read_pickle('Data/Classified/english_comments')"
   ]
  },
  {
   "cell_type": "code",
   "execution_count": 3,
   "metadata": {},
   "outputs": [],
   "source": [
    "# merge with user levels to then separate native from non native speakers\n",
    "df = df.merge(user_levels_df[['author', 'english']], left_on = 'author', right_on = 'author')\n",
    "\n",
    "# separate native from non native speakers\n",
    "natives_bool = (df['english'] == 'N')\n",
    "natives = df[natives_bool]\n",
    "non_natives = df[~natives_bool]"
   ]
  },
  {
   "cell_type": "code",
   "execution_count": 9,
   "metadata": {},
   "outputs": [
    {
     "name": "stderr",
     "output_type": "stream",
     "text": [
      "100%|██████████| 653/653 [00:01<00:00, 371.49it/s]\n",
      "100%|██████████| 325/325 [00:00<00:00, 668.08it/s]"
     ]
    },
    {
     "name": "stdout",
     "output_type": "stream",
     "text": [
      "The new datasets contains  197 native and 57 non-native authors.\n"
     ]
    },
    {
     "name": "stderr",
     "output_type": "stream",
     "text": [
      "\n"
     ]
    }
   ],
   "source": [
    "# Generate feeds for native and non native speakers separately \n",
    "native_feeds = generate_feeds(natives, nb_feeds = 40, nb_words_per_feed = 500, exact = False, seed = 0)\n",
    "non_native_feeds = generate_feeds(non_natives, nb_feeds = 40, nb_words_per_feed = 500, exact = False, seed = 0)\n",
    "\n",
    "print('The new datasets contains ',len(native_feeds), 'native and', len(non_native_feeds), 'non-native authors.')\n"
   ]
  },
  {
   "cell_type": "code",
   "execution_count": null,
   "metadata": {},
   "outputs": [],
   "source": [
    "# Save the newly generated dataframe into pickle file\n",
    "native_feeds.to_pickle('Data/Feeds/native_english_40feeds')\n",
    "non_native_feeds.to_pickle('Data/Feeds/non_native_english_40feeds')"
   ]
  }
 ],
 "metadata": {
  "kernelspec": {
   "display_name": "Python 3.10.1 64-bit ('3.10.1')",
   "language": "python",
   "name": "python3"
  },
  "language_info": {
   "codemirror_mode": {
    "name": "ipython",
    "version": 3
   },
   "file_extension": ".py",
   "mimetype": "text/x-python",
   "name": "python",
   "nbconvert_exporter": "python",
   "pygments_lexer": "ipython3",
   "version": "3.10.1"
  },
  "orig_nbformat": 4,
  "vscode": {
   "interpreter": {
    "hash": "63412e708ced85145ee3358b7b7540b5b7bcbe0d3c78f470347fabcaf1a15eaf"
   }
  }
 },
 "nbformat": 4,
 "nbformat_minor": 2
}
